{
  "nbformat": 4,
  "nbformat_minor": 0,
  "metadata": {
    "colab": {
      "provenance": [],
      "authorship_tag": "ABX9TyObsJ2LhQ526OAVrvJUowjS",
      "include_colab_link": true
    },
    "kernelspec": {
      "name": "python3",
      "display_name": "Python 3"
    },
    "language_info": {
      "name": "python"
    }
  },
  "cells": [
    {
      "cell_type": "markdown",
      "metadata": {
        "id": "view-in-github",
        "colab_type": "text"
      },
      "source": [
        "<a href=\"https://colab.research.google.com/github/Mubashar-Bashir/AgenticAI/blob/main/03_Generics_And_DataClasses.ipynb\" target=\"_parent\"><img src=\"https://colab.research.google.com/assets/colab-badge.svg\" alt=\"Open In Colab\"/></a>"
      ]
    },
    {
      "cell_type": "code",
      "execution_count": null,
      "metadata": {
        "id": "8Rf-8cOzVCCM"
      },
      "outputs": [],
      "source": []
    },
    {
      "cell_type": "markdown",
      "source": [
        "#Generics in Python\n",
        "Generics allow us to define **functions** and **classes** that can operate on different data types while maintaining type safety.\n",
        "\n",
        "#1. Introduction to Generics"
      ],
      "metadata": {
        "id": "Q7ovaGVXVLuD"
      }
    },
    {
      "cell_type": "code",
      "source": [
        "# Example without Generics\n",
        "def first_element(items):\n",
        "    return items[0]\n",
        "\n",
        "nums = [1, 2, 3]\n",
        "strings = ['a', 'b', 'c']\n",
        "\n",
        "print(first_element(nums))     # 1\n",
        "print(first_element(strings))  # 'a'\n",
        "\n",
        "# Issue: No type checking. We can't restrict or inform about expected data types explicitly."
      ],
      "metadata": {
        "colab": {
          "base_uri": "https://localhost:8080/"
        },
        "id": "vYlrg5ZJVUDE",
        "outputId": "80e8d34f-a68c-4d4a-bf89-c29fa9270871"
      },
      "execution_count": 1,
      "outputs": [
        {
          "output_type": "stream",
          "name": "stdout",
          "text": [
            "1\n",
            "a\n"
          ]
        }
      ]
    },
    {
      "cell_type": "markdown",
      "source": [
        "#Why Use Generics When Python Lets You Pass Any List?\n",
        "\n",
        "\n",
        "1.   **Static Type Checking**\n",
        "    \n",
        "\n",
        "*   **Without generics**, you can pass any list, but static type checkers (like mypy) cannot verify that your function is used correctly. For instance, if your function is meant to handle only strings but you accidentally pass a list of integers, Python won't complain until (or unless) something goes wrong at runtime.\n",
        "\n",
        "*   **With generics**, you declare something like List[str] or List[int], and a type checker will immediately flag if you pass the wrong type. This early feedback catches type errors before they become runtime bugs.\n",
        "\n",
        "\n",
        "2.   **Code Clarity and Intent**\n",
        "\n",
        "\n",
        "*   **Generics** communicate clearly to other developers (and future you) that first_element(items: List[T]) -> T is intended to work with a list of a single, consistent type T.\n",
        "When you see List[str], there is no ambiguity about what the list is supposed to contain. This helps prevent accidental mixing of data types.\n",
        "\n",
        "3.  **Improved Tooling Support**\n",
        "\n",
        "*   Modern IDEs can use your generic annotations to provide better autocompletion, refactoring, and linting suggestions.\n",
        "For example, if a function returns T, your IDE will automatically know the returned type is str for a List[str], saving time when using the result elsewhere in your code.\n",
        "4.  **Future-Proofing**\n",
        "\n",
        "*   As projects grow more complex and data structures become nested, generics help keep track of types. This is especially crucial in large-scale applications like production AI systems, where data consistency and correctness are paramount.\n",
        "5.  **Avoiding Silent Logic Errors**\n",
        "\n",
        "*   Without generics, a developer could pass any list, perhaps by mistake. You might not catch it until it causes a subtle bug (like a TypeError in production).\n",
        "By declaring generic types, the mismatch is caught early, which often saves hours of debugging.\n"
      ],
      "metadata": {
        "id": "OZ9cVS6RVjFE"
      }
    },
    {
      "cell_type": "markdown",
      "source": [
        "In short, Python’s flexibility of “pass any list” is convenient for small scripts or quick prototypes. However, in larger, more complex, or production-grade systems—especially with AI or data-heavy workflows—generics, combined with type checkers, dramatically improve reliability, clarity, and maintainability."
      ],
      "metadata": {
        "id": "jV0qBNfYXcHN"
      }
    },
    {
      "cell_type": "markdown",
      "source": [
        "#2. Using Generics"
      ],
      "metadata": {
        "id": "TREWhw9LXhUC"
      }
    },
    {
      "cell_type": "code",
      "source": [
        "from typing import TypeVar, List\n",
        "\n",
        "# Type variable for generic typing\n",
        "T = TypeVar('T')\n",
        "\n",
        "nums = [1, 2, 3]\n",
        "strings = ['a', 'b', 'c']\n",
        "\n",
        "def generic_first_element(items: list[T]) -> T:\n",
        "    return items[0]\n",
        "\n",
        "num_result = generic_first_element(nums)        # type inferred as int from nums into list[nums]\n",
        "string_result = generic_first_element(strings)  # type inferred as str\n",
        "\n",
        "print(num_result)    # 1\n",
        "print(string_result) # 'a'"
      ],
      "metadata": {
        "colab": {
          "base_uri": "https://localhost:8080/"
        },
        "id": "ZtfvgukgXky9",
        "outputId": "261fc84e-ac75-4d17-c19c-3b112a6b2db9"
      },
      "execution_count": 3,
      "outputs": [
        {
          "output_type": "stream",
          "name": "stdout",
          "text": [
            "1\n",
            "a\n"
          ]
        }
      ]
    },
    {
      "cell_type": "markdown",
      "source": [
        "Explanation: By using Generics, Python can infer and enforce types at compile-time, enhancing clarity and safety.\n",
        "\n",
        "#**3. Generic Classes**"
      ],
      "metadata": {
        "id": "2CduKtz8YdUB"
      }
    },
    {
      "cell_type": "code",
      "source": [
        "from typing import Generic, TypeVar, ClassVar\n",
        "from dataclasses import dataclass, field\n",
        "\n",
        "# Type variable for generic typing\n",
        "T = TypeVar('T')\n",
        "\n",
        "@dataclass\n",
        "class Stack(Generic[T]):\n",
        "    items: list[T] = field(default_factory=list)\n",
        "    limit: ClassVar[int] = 10    # commonly availbale for all instances\n",
        "\n",
        "    def push(self, item: T) -> None: #item is a T generaic type placeholder\n",
        "        self.items.append(item)  # appends in items[list]\n",
        "\n",
        "    def pop(self) -> T:\n",
        "        return self.items.pop() # pop from items[list]\n",
        "\n",
        "stack_of_ints = Stack[int]() # instance of int type items = []\n",
        "print(\"stack of ints >>> \",stack_of_ints) # typing.typeVar\n",
        "print(\"stack limit >>> \",stack_of_ints.limit) # 10\n",
        "stack_of_ints.push(10) # 10\n",
        "stack_of_ints.push(20) # 20\n",
        "print(stack_of_ints.items) # [10, 20]\n",
        "print(stack_of_ints.pop())  # 20\n",
        "\n",
        "stack_of_strings = Stack[str]() # instance of str type items =[]\n",
        "print(\"stack of strings >>> \",stack_of_strings) # typing.typevar(str)\n",
        "stack_of_strings.push(\"hello\") # hello\n",
        "stack_of_strings.push(\"world\") # world\n",
        "print(stack_of_strings.items) # ['hello', 'world']\n",
        "print(stack_of_strings.pop())  # 'world'"
      ],
      "metadata": {
        "colab": {
          "base_uri": "https://localhost:8080/"
        },
        "id": "UUhX6Oi4Ygu4",
        "outputId": "32bfc2f8-debd-4ca5-f4d6-5c4a424e9af5"
      },
      "execution_count": 6,
      "outputs": [
        {
          "output_type": "stream",
          "name": "stdout",
          "text": [
            "stack of ints >>>  Stack(items=[])\n",
            "stack limit >>>  10\n",
            "[10, 20]\n",
            "20\n",
            "stack of strings >>>  Stack(items=[])\n",
            "['hello', 'world']\n",
            "world\n"
          ]
        }
      ]
    },
    {
      "cell_type": "code",
      "source": [
        "print(Stack.limit)\n",
        "print(stack_of_ints.limit)"
      ],
      "metadata": {
        "colab": {
          "base_uri": "https://localhost:8080/"
        },
        "id": "klSaBWr6arAS",
        "outputId": "ad16bca3-325e-448d-df2e-d5b1f2a0c7a9"
      },
      "execution_count": 7,
      "outputs": [
        {
          "output_type": "stream",
          "name": "stdout",
          "text": [
            "10\n",
            "10\n"
          ]
        }
      ]
    },
    {
      "cell_type": "markdown",
      "source": [
        "# 4. Advanced Usage of Generics\n",
        "Using Generics with multiple TypeVars"
      ],
      "metadata": {
        "id": "lDimDCqha9D8"
      }
    },
    {
      "cell_type": "code",
      "source": [
        "K = TypeVar('K')\n",
        "V = TypeVar('V')\n",
        "\n",
        "# Incorrect Usage (without Generic inheritance)\n",
        "from dataclasses import dataclass\n",
        "@dataclass\n",
        "class KeyValuePair:\n",
        "    key: K\n",
        "    value: V\n",
        "# This snippet incorrectly attempts generics without inheriting from Generic, causing static type checkers to complain.\n"
      ],
      "metadata": {
        "id": "5hugQESQa_1U"
      },
      "execution_count": null,
      "outputs": []
    },
    {
      "cell_type": "code",
      "source": [
        "from typing import Generic, TypeVar\n",
        "\n",
        "# Type variables for generic typing\n",
        "K = TypeVar('K')\n",
        "V = TypeVar('V')\n",
        "# Correct Usage (with Generic inheritance)\n",
        "@dataclass\n",
        "class CorrectKeyValuePair(Generic[K, V]):\n",
        "    key: K\n",
        "    value: V\n",
        "\n",
        "pair = CorrectKeyValuePair(\"age\", 30)\n",
        "\n",
        "print(pair.key)    # 'age'\n",
        "print(pair.value)  # 30\n",
        "\n",
        "# Explanation of Differences:\n",
        "# - Without Generic inheritance: TypeVars K, V are unbound, causing static checkers to fail.\n",
        "# - With Generic inheritance: Explicitly informs type checkers, ensuring accurate type inference and improved static checking.\n",
        ""
      ],
      "metadata": {
        "colab": {
          "base_uri": "https://localhost:8080/"
        },
        "id": "eW99j97lbYR_",
        "outputId": "9216d132-452d-4f2a-c270-17dd03877b2c"
      },
      "execution_count": 10,
      "outputs": [
        {
          "output_type": "stream",
          "name": "stdout",
          "text": [
            "age\n",
            "30\n"
          ]
        }
      ]
    },
    {
      "cell_type": "markdown",
      "source": [
        "#5. Practical Example with Generics\n",
        "a. Generic function that merges two dictionaries"
      ],
      "metadata": {
        "id": "XGMpuBjucA3W"
      }
    },
    {
      "cell_type": "code",
      "source": [
        "def merge_dicts(dict1: dict[K, V], dict2: dict[K, V]) -> dict[K, V]:\n",
        "    result = dict1.copy()\n",
        "    result.update(dict2)\n",
        "    return result\n",
        "\n",
        "merged = merge_dicts({'a': 1}, {'b': 2})\n",
        "print(merged)  # {'a': 1, 'b': 2}\n",
        ""
      ],
      "metadata": {
        "colab": {
          "base_uri": "https://localhost:8080/"
        },
        "id": "up7Vu6EqcD8P",
        "outputId": "ffc7af97-f5bd-4b19-93ea-25975b8f1277"
      },
      "execution_count": 11,
      "outputs": [
        {
          "output_type": "stream",
          "name": "stdout",
          "text": [
            "{'a': 1, 'b': 2}\n"
          ]
        }
      ]
    },
    {
      "cell_type": "markdown",
      "source": [
        "#b. Generics with DataClasses"
      ],
      "metadata": {
        "id": "djY1thoKcevZ"
      }
    },
    {
      "cell_type": "code",
      "source": [
        "# Dataclasses combined with Generics enhance clarity, immutability, and type safety for complex data structures.\n",
        "\n",
        "@dataclass\n",
        "class GenericDataContainer(Generic[T]):\n",
        "    data: T\n",
        "\n",
        "int_container = GenericDataContainer[int](data=123)\n",
        "str_container = GenericDataContainer[str](data=\"Generics in Python\")\n",
        "\n",
        "print(int_container.data)  # 123\n",
        "print(str_container.data)  # 'Generics in Python'"
      ],
      "metadata": {
        "colab": {
          "base_uri": "https://localhost:8080/"
        },
        "id": "aTxuxHMXchRU",
        "outputId": "a266e78b-23cb-4b2b-bcc5-693cb517b32c"
      },
      "execution_count": 12,
      "outputs": [
        {
          "output_type": "stream",
          "name": "stdout",
          "text": [
            "123\n",
            "Generics in Python\n"
          ]
        }
      ]
    },
    {
      "cell_type": "code",
      "source": [
        "from typing import Generic, TypeVar\n",
        "from dataclasses import dataclass\n",
        "\n",
        "K = TypeVar('K')\n",
        "V = TypeVar('V')\n",
        "# Production Grade Example for AI Agents\n",
        "@dataclass\n",
        "class AgentState(Generic[K, V]):\n",
        "    context: dict[K, V]\n",
        "    status: str\n",
        "\n",
        "agent_state = AgentState[str, str](context={\"task\": \"data collection\", \"priority\": \"high\"}, status=\"active\")\n",
        "\n",
        "print(agent_state.context)  # {'task': 'data collection', 'priority': 'high'}\n",
        "print(agent_state.status)   # 'active'"
      ],
      "metadata": {
        "colab": {
          "base_uri": "https://localhost:8080/"
        },
        "id": "nABmwwQ5curP",
        "outputId": "dec2f3a8-f306-4aba-d24d-f3919bcf8b64"
      },
      "execution_count": 13,
      "outputs": [
        {
          "output_type": "stream",
          "name": "stdout",
          "text": [
            "{'task': 'data collection', 'priority': 'high'}\n",
            "active\n"
          ]
        }
      ]
    },
    {
      "cell_type": "markdown",
      "source": [
        "##**Summary**\n",
        "Always explicitly inherit from Generic when using TypeVar in Python classes to clearly communicate intentions to static type checkers and to avoid subtle type-related bugs.\n",
        "\n",
        "Generics significantly enhance type safety, readability, and maintainability, making them critical for robust, scalable, and production-grade AI agent systems."
      ],
      "metadata": {
        "id": "M-qW4H4CdYVt"
      }
    }
  ]
}