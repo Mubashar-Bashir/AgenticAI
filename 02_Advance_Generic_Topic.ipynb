{
  "nbformat": 4,
  "nbformat_minor": 0,
  "metadata": {
    "colab": {
      "provenance": [],
      "authorship_tag": "ABX9TyPJkYm8S5JRaeDPXzWLHD0G",
      "include_colab_link": true
    },
    "kernelspec": {
      "name": "python3",
      "display_name": "Python 3"
    },
    "language_info": {
      "name": "python"
    }
  },
  "cells": [
    {
      "cell_type": "markdown",
      "metadata": {
        "id": "view-in-github",
        "colab_type": "text"
      },
      "source": [
        "<a href=\"https://colab.research.google.com/github/Mubashar-Bashir/AgenticAI/blob/main/02_Advance_Generic_Topic.ipynb\" target=\"_parent\"><img src=\"https://colab.research.google.com/assets/colab-badge.svg\" alt=\"Open In Colab\"/></a>"
      ]
    },
    {
      "cell_type": "code",
      "execution_count": null,
      "metadata": {
        "id": "-vCat5J-DiJA"
      },
      "outputs": [],
      "source": []
    },
    {
      "cell_type": "markdown",
      "source": [
        "**Note** You can enable type checking in Colab in the menu **Tools** > **Setting **> **Editor** > (scroll to the bottom) Code diagnostics and choose `Syntax and type checking`. It then underlines type errors in red and hovering them displays the message:\n",
        "\n",
        "#**Understanding Generics in Python**\n",
        "Generics allow us to create flexible and reusable code that can handle multiple data types dynamically. They are useful in situations where a **function**, **class**, or **method** should work with **different types** while maintaining type safety.\n",
        "\n",
        "In Python, generics are implemented using the `typing` module.\n"
      ],
      "metadata": {
        "id": "jz0xAzoIGXQt"
      }
    },
    {
      "cell_type": "markdown",
      "source": [
        "#1. Why Use Generics?\n",
        "Let's consider an example without generics:\n",
        "\n",
        "\n",
        "\n",
        "```\n",
        "def double_number(n: int) -> int:\n",
        "    return n * 2\n",
        "print(double_number(5))   # ✅ Works fine\n",
        "print(double_number(5.5)) # ❌ Type error (expected int)\n",
        "```\n"
      ],
      "metadata": {
        "id": "3VzW6n0uG-JT"
      }
    },
    {
      "cell_type": "code",
      "source": [
        "def double_number(n: int) -> int:\n",
        "    return n * 2\n",
        "\n",
        "print(double_number(5))   # ✅ Works fine\n",
        "print(double_number(5.5)) # ❌ Type error (expected int)"
      ],
      "metadata": {
        "colab": {
          "base_uri": "https://localhost:8080/"
        },
        "id": "wX8lfQjYG3SW",
        "outputId": "03c50771-3632-4afb-849b-2809a00483f0"
      },
      "execution_count": 1,
      "outputs": [
        {
          "output_type": "stream",
          "name": "stdout",
          "text": [
            "10\n",
            "11.0\n"
          ]
        }
      ]
    },
    {
      "cell_type": "markdown",
      "source": [
        "This function only works with **integers**. But what if we want it to work with **float** as well?\n",
        "\n",
        "We could remove the type hints, but then we'd lose type safety. Instead, **generics** solve this issue!"
      ],
      "metadata": {
        "id": "ITm1s_OsIFpY"
      }
    },
    {
      "cell_type": "markdown",
      "source": [
        "#2. Basic Syntax of Generics (TypeVar)\n",
        "Generics in Python are implemented using TypeVar from typing.\n",
        "\n",
        "`from typing import TypeVar`\n",
        "\n",
        "`T = TypeVar(\"T\")  # T represents a generic type`\n",
        "T is a placeholder that can be replaced with any type when the function is called.\n",
        "The actual type is inferred at runtime."
      ],
      "metadata": {
        "id": "rOpm-pwTIPdo"
      }
    },
    {
      "cell_type": "markdown",
      "source": [
        "#3. Using Generics in Functions\n",
        "\n",
        "```\n",
        "from typing import TypeVar\n",
        "\n",
        "T = TypeVar(\"T\")  # Generic Type\n",
        "\n",
        "def identity(value: T) -> T:\n",
        "    return value\n",
        "\n",
        "print(identity(5))        # ✅ Works with int\n",
        "print(identity(\"Hello\"))  # ✅ Works with str\n",
        "print(identity([1, 2, 3])) # ✅ Works with list\n",
        "\n",
        "```\n",
        "\n",
        "**How It Works:**\n",
        "T is a type variable, meaning that whatever type we pass, the function adapts.\n",
        "identity(5) → T becomes int\n",
        "identity(\"Hello\") → T becomes str\n",
        "identity([1, 2, 3]) → T becomes list[int]\n",
        "✅ Advantage: Type checking remains strong, but the function is flexible!"
      ],
      "metadata": {
        "id": "G1wd9S1xIi_4"
      }
    },
    {
      "cell_type": "code",
      "source": [
        "from typing import TypeVar\n",
        "\n",
        "T = TypeVar(\"T\")  # Generic Type\n",
        "\n",
        "def identity(value: T) -> T:\n",
        "    return value\n",
        "\n",
        "print(identity(5))        # ✅ Works with int\n",
        "print(identity(\"Hello\"))  # ✅ Works with str\n",
        "print(identity([1, 2, 3])) # ✅ Works with list\n"
      ],
      "metadata": {
        "colab": {
          "base_uri": "https://localhost:8080/"
        },
        "id": "vmtIkXWyJA2z",
        "outputId": "50fd04be-e256-44be-8554-e63196142b7c"
      },
      "execution_count": 2,
      "outputs": [
        {
          "output_type": "stream",
          "name": "stdout",
          "text": [
            "5\n",
            "Hello\n",
            "[1, 2, 3]\n"
          ]
        }
      ]
    },
    {
      "cell_type": "markdown",
      "source": [
        "#4. Using Generics in Classes\n",
        "We can define generic classes that work with multiple data types.\n",
        "\n",
        "**Example: Generic Container Class**\n",
        "```\n",
        "from typing import Generic, TypeVar\n",
        "\n",
        "T = TypeVar(\"T\")  # Define a type variable\n",
        "\n",
        "class Container(Generic[T]):  # Declare a generic class\n",
        "    def __init__(self, value: T):\n",
        "        self.value = value\n",
        "    \n",
        "    def get_value(self) -> T:\n",
        "        return self.value\n",
        "\n",
        "# Creating instances with different types\n",
        "c1 = Container(10)          # T becomes int\n",
        "c2 = Container(\"Python\")    # T becomes str\n",
        "c3 = Container([1, 2, 3])   # T becomes list[int]\n",
        "\n",
        "print(c1.get_value())  # 10\n",
        "print(c2.get_value())  # Python\n",
        "print(c3.get_value())  # [1, 2, 3]\n",
        "```\n",
        "✅ **Advantage**:\n",
        "\n",
        "We don’t need separate classes for int, str, list, etc.\n",
        "The class adopts the different types while maintaining type safety."
      ],
      "metadata": {
        "id": "dHjv1NJ7JMYx"
      }
    },
    {
      "cell_type": "code",
      "source": [
        "from typing import Generic, TypeVar\n",
        "\n",
        "T = TypeVar(\"T\")  # Define a type variable\n",
        "\n",
        "class Container(Generic[T]):  # Declare a generic class\n",
        "    def __init__(self, value: T):\n",
        "        self.value = value\n",
        "\n",
        "    def get_value(self) -> T:\n",
        "        return self.value\n",
        "\n",
        "# Creating instances with different types\n",
        "c1 = Container(10)          # T becomes int\n",
        "c2 = Container(\"Python\")    # T becomes str\n",
        "c3 = Container([1, 2, 3])   # T becomes list[int]\n",
        "\n",
        "print(c1.get_value())  # 10\n",
        "print(c2.get_value())  # Python\n",
        "print(c3.get_value())  # [1, 2, 3]"
      ],
      "metadata": {
        "colab": {
          "base_uri": "https://localhost:8080/"
        },
        "id": "4WpCx2MmJ21D",
        "outputId": "cefcc347-5ceb-4e10-d3a6-c18fa94b82c8"
      },
      "execution_count": 3,
      "outputs": [
        {
          "output_type": "stream",
          "name": "stdout",
          "text": [
            "10\n",
            "Python\n",
            "[1, 2, 3]\n"
          ]
        }
      ]
    },
    {
      "cell_type": "markdown",
      "source": [
        "#5. Generics with Multiple Type Variables\n",
        "Sometimes, we need more than one generic type. We can define multiple **TypeVars**.\n",
        "\n",
        "**Example: Generic Key-Value Pair**\n",
        "```\n",
        "from typing import TypeVar, Generic\n",
        "\n",
        "K = TypeVar(\"K\")  # Key type\n",
        "V = TypeVar(\"V\")  # Value type\n",
        "\n",
        "class KeyValuePair(Generic[K, V]):\n",
        "    def __init__(self, key: K, value: V):\n",
        "        self.key = key\n",
        "        self.value = value\n",
        "\n",
        "    def get_pair(self) -> tuple[K, V]:\n",
        "        return (self.key, self.value)\n",
        "\n",
        "pair1 = KeyValuePair(\"id\", 101)       # str, int\n",
        "pair2 = KeyValuePair(1, \"Python\")     # int, str\n",
        "\n",
        "print(pair1.get_pair())  # ('id', 101)\n",
        "print(pair2.get_pair())  # (1, 'Python')\n",
        "```\n",
        "✅ **Advantage**:\n",
        "\n",
        "Works with any combination of key-value types.\n"
      ],
      "metadata": {
        "id": "-CYLqo-GKnpJ"
      }
    },
    {
      "cell_type": "code",
      "source": [
        "from typing import TypeVar, Generic\n",
        "\n",
        "K = TypeVar(\"K\")  # Key type\n",
        "V = TypeVar(\"V\")  # Value type\n",
        "\n",
        "class KeyValuePair(Generic[K, V]):\n",
        "    def __init__(self, key: K, value: V):\n",
        "        self.key = key\n",
        "        self.value = value\n",
        "\n",
        "    def get_pair(self) -> tuple[K, V]:\n",
        "        return (self.key, self.value)\n",
        "\n",
        "pair1 = KeyValuePair(\"id\", 101)       # str, int\n",
        "pair2 = KeyValuePair(1, \"Python\")     # int, str\n",
        "\n",
        "print(pair1.get_pair())  # ('id', 101)\n",
        "print(pair2.get_pair())  # (1, 'Python')"
      ],
      "metadata": {
        "colab": {
          "base_uri": "https://localhost:8080/"
        },
        "id": "95QFnns2KnTn",
        "outputId": "440fd946-2408-4229-a9d1-dfbbdc71d8a0"
      },
      "execution_count": 4,
      "outputs": [
        {
          "output_type": "stream",
          "name": "stdout",
          "text": [
            "('id', 101)\n",
            "(1, 'Python')\n"
          ]
        }
      ]
    },
    {
      "cell_type": "markdown",
      "source": [
        "#6. Generics with Constraints (bound=)\n",
        "We can restrict the generic type to a specific superclass.\n",
        "\n",
        "**Example: Restricting Generics to Numeric Types**\n",
        "```\n",
        "from typing import TypeVar\n",
        "\n",
        "# TypeVar bound to (restricted to) float and int types\n",
        "Number = TypeVar(\"Number\", int, float)\n",
        "\n",
        "def add(x: Number, y: Number) -> Number:\n",
        "    return x + y\n",
        "\n",
        "print(add(3, 5))     # ✅ Works with int\n",
        "print(add(2.5, 1.2)) # ✅ Works with float\n",
        "print(add(\"3\", \"5\")) # ❌ Type error: str is not allowed\n",
        "```\n",
        "✅ **Advantage**:\n",
        "\n",
        "Ensures only numbers are accepted (not strings, lists, etc.)."
      ],
      "metadata": {
        "id": "nBBydVySLJwA"
      }
    },
    {
      "cell_type": "code",
      "source": [
        "from typing import TypeVar\n",
        "\n",
        "# TypeVar bound to (restricted to) float and int types\n",
        "Number = TypeVar(\"Number\", int, float)\n",
        "\n",
        "def add(x: Number, y: Number) -> Number:\n",
        "    return x + y\n",
        "\n",
        "print(add(3, 5))     # ✅ Works with int 3 + 5 = 8 int\n",
        "print(add(2.5, 1.2)) # ✅ Works with float 2.5 + 1.2 = 3.7 float\n",
        "print(add(\"3\", \"5\")) # ❌ Type error: str is not allowed as number = Typevar(\"Number\", int, float) only"
      ],
      "metadata": {
        "colab": {
          "base_uri": "https://localhost:8080/"
        },
        "id": "PHl2VDKULfje",
        "outputId": "dd59fb39-bcba-4175-83ca-14b7ec28c757"
      },
      "execution_count": 6,
      "outputs": [
        {
          "output_type": "stream",
          "name": "stdout",
          "text": [
            "8\n",
            "3.7\n",
            "35\n"
          ]
        }
      ]
    },
    {
      "cell_type": "markdown",
      "source": [
        "#7. Generics with Data Structures (list[T], dict[K, V])\n",
        "Generics are often used with data structures.\n",
        "\n",
        "## Example: Generic Stack Implementation\n",
        "```\n",
        "from typing import TypeVar, Generic\n",
        "\n",
        "T = TypeVar(\"T\")\n",
        "\n",
        "class Stack(Generic[T]):\n",
        "    def __init__(self):\n",
        "        self.items: list[T] = []\n",
        "\n",
        "    def push(self, item: T) -> None:\n",
        "        self.items.append(item)\n",
        "\n",
        "    def pop(self) -> T:\n",
        "        return self.items.pop()\n",
        "\n",
        "    def is_empty(self) -> bool:\n",
        "        return len(self.items) == 0\n",
        "\n",
        "stack_int = Stack[int]()\n",
        "stack_int.push(10)\n",
        "stack_int.push(20)\n",
        "\n",
        "print(stack_int.pop())  # 20\n",
        "print(stack_int.pop())  # 10\n",
        "```\n",
        "✅ **Advantage**:\n",
        "\n",
        "A Stack[int] ensures that only integers are stored.\n",
        "If you try stack_int.push(\"hello\"), Python will raise a type error.\n"
      ],
      "metadata": {
        "id": "hw0oGLKBMGmf"
      }
    },
    {
      "cell_type": "code",
      "source": [
        "from typing import TypeVar, Generic\n",
        "\n",
        "T = TypeVar(\"T\")\n",
        "\n",
        "class Stack(Generic[T]):\n",
        "    def __init__(self):\n",
        "        self.items: list[T] = []\n",
        "\n",
        "    def push(self, item: T) -> None:\n",
        "        self.items.append(item)\n",
        "\n",
        "    def pop(self) -> T:\n",
        "        return self.items.pop()\n",
        "\n",
        "    def is_empty(self) -> bool:\n",
        "        return len(self.items) == 0\n",
        "\n",
        "stack_int = Stack[int]()\n",
        "stack_int.push(10)\n",
        "stack_int.push(20)\n",
        "\n",
        "print(stack_int.pop())  # 20\n",
        "print(stack_int.pop())  # 10"
      ],
      "metadata": {
        "colab": {
          "base_uri": "https://localhost:8080/"
        },
        "id": "2VcY8Ww2Mi7v",
        "outputId": "27b80ea9-cf86-4a6f-8da3-312af7981615"
      },
      "execution_count": 7,
      "outputs": [
        {
          "output_type": "stream",
          "name": "stdout",
          "text": [
            "20\n",
            "10\n"
          ]
        }
      ]
    },
    {
      "cell_type": "code",
      "source": [
        "stack_float = Stack[float]()\n",
        "stack_float.push(10.30)\n",
        "stack_float.push(20.220)\n",
        "\n",
        "print(stack_float.pop())  # 20\n",
        "print(stack_float.pop())  # 10"
      ],
      "metadata": {
        "colab": {
          "base_uri": "https://localhost:8080/"
        },
        "id": "xc83S0cqM4ou",
        "outputId": "1a10ece7-3834-4c59-b5dc-ae012121b70d"
      },
      "execution_count": 10,
      "outputs": [
        {
          "output_type": "stream",
          "name": "stdout",
          "text": [
            "20.22\n",
            "10.3\n"
          ]
        }
      ]
    },
    {
      "cell_type": "markdown",
      "source": [
        "#8. Generics in Function Parameters (Callable)\n",
        "Some functions accept another function as a parameter. We can use Callable with generics.\n",
        "\n",
        "## Example: Generic Function as Parameter\n",
        "```\n",
        "from typing import TypeVar, Callable\n",
        "\n",
        "T = TypeVar(\"T\")\n",
        "\n",
        "def apply_function(func: Callable[[T], T], value: T) -> T:\n",
        "    return func(value)\n",
        "\n",
        "def square(n: int) -> int:\n",
        "    return n * n\n",
        "\n",
        "print(apply_function(square, 5))  # 25\n",
        "```\n",
        "✅ **Advantage**:\n",
        "\n",
        "The function adapts dynamically to different functions passed as arguments."
      ],
      "metadata": {
        "id": "zABePuJENNct"
      }
    },
    {
      "cell_type": "code",
      "source": [
        "from typing import TypeVar, Callable\n",
        "\n",
        "T = TypeVar(\"T\")\n",
        "\n",
        "def apply_function(func: Callable[[T], T], value: T) -> T:\n",
        "    return func(value)\n",
        "\n",
        "def square(n: int) -> int:\n",
        "    return n * n\n",
        "\n",
        "print(apply_function(square, 5))  # 25\n",
        ""
      ],
      "metadata": {
        "colab": {
          "base_uri": "https://localhost:8080/"
        },
        "id": "hqKCHf0dNmRh",
        "outputId": "6d41f21e-30d9-44c6-b19b-fce99520b9af"
      },
      "execution_count": 11,
      "outputs": [
        {
          "output_type": "stream",
          "name": "stdout",
          "text": [
            "25\n"
          ]
        }
      ]
    },
    {
      "cell_type": "markdown",
      "source": [
        "#9. Advanced: Using Generic[T] in LLM-based Agents\n",
        "Here’s a real-world example where Generic[T] is used in an AI agent class.\n",
        "```\n",
        "from typing import Generic, TypeVar\n",
        "\n",
        "TContext = TypeVar(\"TContext\")\n",
        "\n",
        "class Agent(Generic[TContext]):\n",
        "    \"\"\"A generic AI agent that works with different contexts.\"\"\"\n",
        "\n",
        "    def __init__(self, name: str, context: TContext):\n",
        "        self.name = name\n",
        "        self.context = context\n",
        "\n",
        "    def execute(self) -> None:\n",
        "        print(f\"Executing with context: {self.context}\")\n",
        "\n",
        "# Creating agents with different contexts\n",
        "text_agent = Agent[str](\"TextProcessor\", \"Analyze sentiment\")\n",
        "data_agent = Agent[dict](\"DataAnalyzer\", {\"data\": [1, 2, 3]})\n",
        "\n",
        "text_agent.execute()  # Executing with context: Analyze sentiment\n",
        "data_agent.execute()  # Executing with context: {'data': [1, 2, 3]}\n",
        "```\n",
        "✅ **Why is this useful?**\n",
        "\n",
        "The same Agent class works with any context type (text, dict, etc.).\n",
        "It avoids code duplication."
      ],
      "metadata": {
        "id": "kUrCRl9jOyuD"
      }
    },
    {
      "cell_type": "code",
      "source": [
        "from typing import Generic, TypeVar\n",
        "\n",
        "TContext = TypeVar(\"TContext\")\n",
        "\n",
        "class Agent(Generic[TContext]):\n",
        "    \"\"\"A generic AI agent that works with different contexts.\"\"\"\n",
        "\n",
        "    def __init__(self, name: str, context: TContext):\n",
        "        self.name = name\n",
        "        self.context = context\n",
        "\n",
        "    def execute(self) -> None:\n",
        "        print(f\"Executing with context: {self.context}\")\n",
        "\n",
        "# Creating agents with different contexts\n",
        "text_agent = Agent[str](\"TextProcessor\", \"Analyze sentiment\")\n",
        "data_agent = Agent[dict](\"DataAnalyzer\", {\"data\": [1, 2, 3]})\n",
        "\n",
        "text_agent.execute()  # Executing with context: Analyze sentiment\n",
        "data_agent.execute()  # Executing with context: {'data': [1, 2, 3]}"
      ],
      "metadata": {
        "colab": {
          "base_uri": "https://localhost:8080/"
        },
        "id": "mcQwxgyyPOip",
        "outputId": "5278e1f5-4c56-4341-9d53-a03d52154723"
      },
      "execution_count": 12,
      "outputs": [
        {
          "output_type": "stream",
          "name": "stdout",
          "text": [
            "Executing with context: Analyze sentiment\n",
            "Executing with context: {'data': [1, 2, 3]}\n"
          ]
        }
      ]
    },
    {
      "cell_type": "markdown",
      "source": [
        "<table border=\"1\">\n",
        "    <tr>\n",
        "        <th>Concept</th>\n",
        "        <th>Explanation</th>\n",
        "    </tr>\n",
        "    <tr>\n",
        "        <td>TypeVar</td>\n",
        "        <td>Defines a generic type variable (T)</td>\n",
        "    </tr>\n",
        "    <tr>\n",
        "        <td>Generic[T]</td>\n",
        "        <td>Creates classes that work with different types</td>\n",
        "    </tr>\n",
        "    <tr>\n",
        "        <td>field(default_factory=list)</td>\n",
        "        <td>Ensures safe initialization of mutable types</td>\n",
        "    </tr>\n",
        "    <tr>\n",
        "        <td>Callable</td>\n",
        "        <td>Defines function signatures with generics</td>\n",
        "    </tr>\n",
        "    <tr>\n",
        "        <td>Bounded TypeVar</td>\n",
        "        <td>Restricts generics to specific types (e.g., int, float)</td>\n",
        "    </tr>\n",
        "    <tr>\n",
        "        <td>Multiple TypeVars</td>\n",
        "        <td>Supports multiple generic types (K, V)</td>\n",
        "    </tr>\n",
        "</table>\n"
      ],
      "metadata": {
        "id": "LY5_MiHbPrWR"
      }
    },
    {
      "cell_type": "markdown",
      "source": [
        "#**🚀 Key Takeaways**\n",
        "Generics reduce code duplication and increase flexibility.\n",
        "They work with **functions**, **classes**, and **complex** structures.\n",
        "**TypeVar** allows defining flexible **data types.**\n",
        "Use **Generic[T]** to create reusable **AI models**, **agents**, or **data structures**.\n",
        "Would you like to practice some examples? 🚀"
      ],
      "metadata": {
        "id": "4HaoVrqTRofw"
      }
    },
    {
      "cell_type": "code",
      "source": [],
      "metadata": {
        "id": "rIeuo_JxPqo4"
      },
      "execution_count": null,
      "outputs": []
    }
  ]
}