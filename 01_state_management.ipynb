{
  "nbformat": 4,
  "nbformat_minor": 0,
  "metadata": {
    "colab": {
      "provenance": [],
      "authorship_tag": "ABX9TyOglS0X/wJcSGkCuDuNurTc",
      "include_colab_link": true
    },
    "kernelspec": {
      "name": "python3",
      "display_name": "Python 3"
    },
    "language_info": {
      "name": "python"
    }
  },
  "cells": [
    {
      "cell_type": "markdown",
      "metadata": {
        "id": "view-in-github",
        "colab_type": "text"
      },
      "source": [
        "<a href=\"https://colab.research.google.com/github/Mubashar-Bashir/AgenticAI/blob/main/01_state_management.ipynb\" target=\"_parent\"><img src=\"https://colab.research.google.com/assets/colab-badge.svg\" alt=\"Open In Colab\"/></a>"
      ]
    },
    {
      "cell_type": "markdown",
      "source": [
        "#State Managements in Flows\n",
        "In CrewAI Flows, effective state management is crucial for building robust AI workflows. Flows support **two primary** approaches to state management:\n",
        "<li>unstructured  \n",
        "<li>structured.\n",
        "\n",
        "Both methods allow you to initialize or update the flow's state by passing inputs to the kickoff function.\n",
        "\n",
        "**Unstructured State Management**:\n",
        "\n",
        "In unstructured state management, the flow's state is a dictionary (dict) that can be **dynamically updated**. You can pass any dictionary to the inputs parameter of the kickoff function to initialize or **update the state**.\n",
        "\n",
        "**Example:**"
      ],
      "metadata": {
        "id": "GNKlm-nEYQwA"
      }
    },
    {
      "cell_type": "code",
      "source": [
        "!pip install -Uq crewai  'crewai[tools]' crewai-tools"
      ],
      "metadata": {
        "id": "thlFO_1AZagt"
      },
      "execution_count": null,
      "outputs": []
    },
    {
      "cell_type": "code",
      "source": [
        "import warnings\n",
        "warnings.filterwarnings('ignore')"
      ],
      "metadata": {
        "id": "u9I178yRZnwE"
      },
      "execution_count": null,
      "outputs": []
    },
    {
      "cell_type": "code",
      "source": [
        "import nest_asyncio\n",
        "nest_asyncio.apply()\n",
        "'''In Jupyter notebooks, running asyncio code directly can cause errors\n",
        "because an event loop is already active.\n",
        "nest_asyncio solves this by allowing multiple nested event loops,\n",
        "so you can run asynchronous code without conflict. '''"
      ],
      "metadata": {
        "colab": {
          "base_uri": "https://localhost:8080/",
          "height": 54
        },
        "id": "s3RlJfxiaOJT",
        "outputId": "dac23fe1-6d38-4c99-ea2c-73227232ad04"
      },
      "execution_count": null,
      "outputs": [
        {
          "output_type": "execute_result",
          "data": {
            "text/plain": [
              "'In Jupyter notebooks, running asyncio code directly can cause errors \\nbecause an event loop is already active. \\nnest_asyncio solves this by allowing multiple nested event loops, \\nso you can run asynchronous code without conflict. '"
            ],
            "application/vnd.google.colaboratory.intrinsic+json": {
              "type": "string"
            }
          },
          "metadata": {},
          "execution_count": 12
        }
      ]
    },
    {
      "cell_type": "code",
      "execution_count": null,
      "metadata": {
        "colab": {
          "base_uri": "https://localhost:8080/"
        },
        "id": "veaHoDYqX4RV",
        "outputId": "95255c6c-5387-40ab-b7c9-254bf8469485"
      },
      "outputs": [
        {
          "output_type": "stream",
          "name": "stdout",
          "text": [
            "State after third_method: {'counter': 2, 'message': 'Hello from unstructured flow - updated - updated again'}\n"
          ]
        }
      ],
      "source": [
        "from crewai.flow.flow import Flow, listen, start\n",
        "\n",
        "class UnstructuredExampleFlow(Flow):\n",
        "    @start()\n",
        "    def first_method(self):\n",
        "        self.state['message'] = \"Hello from unstructured flow\"\n",
        "        self.state['counter'] = 0\n",
        "\n",
        "    @listen(first_method) # listener will listen previous method\n",
        "    def second_method(self):\n",
        "        self.state['counter'] += 1\n",
        "        self.state['message'] += \" - updated1\"\n",
        "\n",
        "    @listen(second_method) # listener will listen previous method\n",
        "    def third_method(self):\n",
        "        self.state['counter'] += 1\n",
        "        self.state['message'] += \" - updated again2\"\n",
        "        print(f\"State after third_method: {self.state}\")\n",
        "\n",
        "flow = UnstructuredExampleFlow()\n",
        "flow.kickoff(inputs={'counter': 5, 'message': 'Initial message'})"
      ]
    },
    {
      "cell_type": "markdown",
      "source": [
        "In this example, the **kickoff** function initializes the state with counter set to **5** and message set to **'Initial message'**. The methods then update these values as the flow progresses.\n",
        "\n",
        "#**Structured State Management**\n",
        "\n",
        "Structured state management utilizes predefined schemas to ensure consistency and type safety. By employing models such as Pydantic's BaseModel, you can define the exact structure of the state. Inputs passed to the kickoff function must adhere to this schema.\n",
        "\n",
        "Example:"
      ],
      "metadata": {
        "id": "c4pWld3ueQAp"
      }
    },
    {
      "cell_type": "code",
      "source": [
        "from crewai.flow.flow import Flow, listen, start\n",
        "from pydantic import BaseModel  # for structure input\n",
        "\n",
        "class ExampleState(BaseModel):\n",
        "    counter: int = 0\n",
        "    message: str = \"\"\n",
        "\n",
        "class StructuredExampleFlow(Flow[ExampleState]):\n",
        "    @start()\n",
        "    def first_method(self):\n",
        "        self.state.message = \"Hello from structured flow\"\n",
        "        pass\n",
        "\n",
        "    @listen(first_method)\n",
        "    def second_method(self):\n",
        "        self.state.counter += 1\n",
        "        self.state.message += \" - updated1\"\n",
        "\n",
        "    @listen(second_method)\n",
        "    def third_method(self):\n",
        "        self.state.counter += 1\n",
        "        self.state.message += \" - updated again2\"\n",
        "        print(f\"State after third_method: {self.state}\")\n",
        "\n",
        "flow = StructuredExampleFlow()\n",
        "flow.kickoff(inputs={'counter': 10, 'message': 'Starting message'})"
      ],
      "metadata": {
        "colab": {
          "base_uri": "https://localhost:8080/"
        },
        "id": "qFWGFUI_gBMa",
        "outputId": "ee5b4615-2d36-458f-ab95-7f4b7b1229fb"
      },
      "execution_count": null,
      "outputs": [
        {
          "output_type": "stream",
          "name": "stdout",
          "text": [
            "State after third_method: counter=12 message='Hello from structured flow - updated1 - updated again2'\n"
          ]
        }
      ]
    },
    {
      "cell_type": "markdown",
      "source": [
        "Here, **ExampleState** defines the structure of the state with specific types for counter and message. The kickoff function initializes the state with counter set to 10 and message set to 'Starting message'. The methods then update these values as the flow progresses.\n",
        "\n",
        "**Key Points:**\n",
        "\n",
        "**Unstructured State Management:** Offers flexibility by allowing **dynamic addition** of state attributes without **predefined constraints**.\n",
        "\n",
        "**Structured State Management:** Provides **defined schemas**, ensuring type safety and consistency, which is beneficial for complex workflows.\n",
        "\n",
        "By effectively managing state within CrewAI Flows, you can create robust, maintainable, and efficient AI workflows tailored to your specific needs.\n",
        "\n",
        "For more detailed information, refer to the CrewAI Flows documentation."
      ],
      "metadata": {
        "id": "lcKFim1YiKtU"
      }
    }
  ]
}