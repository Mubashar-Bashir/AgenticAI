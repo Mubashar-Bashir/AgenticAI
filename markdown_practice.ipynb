{
  "nbformat": 4,
  "nbformat_minor": 0,
  "metadata": {
    "colab": {
      "provenance": [],
      "authorship_tag": "ABX9TyOKpq6mldsqu6NhF/cZHaeB",
      "include_colab_link": true
    },
    "kernelspec": {
      "name": "python3",
      "display_name": "Python 3"
    },
    "language_info": {
      "name": "python"
    }
  },
  "cells": [
    {
      "cell_type": "markdown",
      "metadata": {
        "id": "view-in-github",
        "colab_type": "text"
      },
      "source": [
        "<a href=\"https://colab.research.google.com/github/Mubashar-Bashir/AgenticAI/blob/main/markdown_practice.ipynb\" target=\"_parent\"><img src=\"https://colab.research.google.com/assets/colab-badge.svg\" alt=\"Open In Colab\"/></a>"
      ]
    },
    {
      "cell_type": "code",
      "execution_count": null,
      "metadata": {
        "id": "hANYIuXKDM68"
      },
      "outputs": [],
      "source": []
    },
    {
      "cell_type": "markdown",
      "source": [
        "# My Project\n",
        "\n",
        "## Introduction\n",
        "\n",
        "Welcome to my project! This is a **sample** document showcasing Markdown.\n",
        "\n",
        "### Features\n",
        "\n",
        "- **Fast**: Built for speed.\n",
        "- *Flexible*: Works on multiple platforms.\n",
        "- [Learn More](https://www.example.com)\n",
        "\n",
        "> \"Markdown makes writing fun and easy!\" — A happy user\n",
        "\n",
        "#### Code Example\n",
        "\n",
        "```python\n",
        "def greet():\n",
        "    print(\"Hello, Markdown!\")\n",
        "```\n"
      ],
      "metadata": {
        "id": "No5ze3mwHIdX"
      }
    },
    {
      "cell_type": "markdown",
      "source": [
        "# Here is the markdown practice Document Cheatsheet\n",
        "---\n",
        "# Overview\n",
        "\n",
        "This Markdown cheat sheet provides a quick overview of all the **Markdown** syntax elements. It can’t cover every edge case, so if you need more information about any of these elements, refer to the reference guides for basic syntax and extended syntax.\n",
        "\n",
        "# Basic Syntax\n",
        "\n",
        "These are the elements outlined in John Gruber’s original design document. All Markdown applications support these elements.\n",
        "\n",
        "| Element\t| Markdown Syntax |\n",
        "| ----------- | ---------------- |\n",
        "| [Heading](https://www.markdownguide.org/basic-syntax/#headings)\t| `# H1` <br> `## H2` <br> `### H3` |\n",
        "| [Bold](https://www.markdownguide.org/basic-syntax/#bold) | `**bold text**` |\n"
      ],
      "metadata": {
        "id": "jnjznzP6DSlP"
      }
    },
    {
      "cell_type": "markdown",
      "source": [
        "# Markdown Practice Document Cheatsheet\n",
        "\n",
        "---\n",
        "\n",
        "## Overview\n",
        "\n",
        "This Markdown cheat sheet serves as a quick reference for **Markdown** syntax, a lightweight markup language for formatting plain text. It’s widely used in platforms like GitHub, Notion, and Reddit for creating readable documents. This guide covers the basic syntax from John Gruber’s original Markdown design and includes common extended syntax supported by many Markdown parsers. For detailed edge cases, refer to the [Markdown Guide](https://www.markdownguide.org).\n",
        "\n",
        "## Basic Syntax\n",
        "\n",
        "These elements, outlined in John Gruber’s original Markdown specification, are supported by all Markdown applications.\n",
        "\n",
        "| Element | Markdown Syntax | Example Output |\n",
        "|---------|-----------------|----------------|\n",
        "| [Heading](https://www.markdownguide.org/basic-syntax/#headings) | `# H1`<br>`## H2`<br>`### H3` | Heading 1<br>Heading 2<br>Heading 3 |\n",
        "| [Bold](https://www.markdownguide.org/basic-syntax/#bold) | `**bold text**` or `__bold text__` | **bold text** |\n",
        "| [Italic](https://www.markdownguide.org/basic-syntax/#italics) | `*italicized text*` or `_italicized text_` | *italicized text* |\n",
        "| [Blockquote](https://www.markdownguide.org/basic-syntax/#blockquotes) | `> blockquote` | > blockquote |\n",
        "| [Ordered List](https://www.markdownguide.org/basic-syntax/#ordered-lists) | `1. First item`<br>`2. Second item`<br>`3. Third item` | 1. First item<br>2. Second item<br>3. Third item |\n",
        "| [Unordered List](https://www.markdownguide.org/basic-syntax/#unordered-lists) | `- First item`<br>`- Second item`<br>`- Third item` | - First item<br>- Second item<br>- Third item |\n",
        "| [Code](https://www.markdownguide.org/basic-syntax/#code) | `code` | `code` |\n",
        "| [Horizontal Rule](https://www.markdownguide.org/basic-syntax/#horizontal-rules) | `---` or `***` or `__` | --- |\n",
        "| [Link](https://www.markdownguide.org/basic-syntax/#links) | `[title](https://www.example.com)` | [title](https://www.example.com) |\n",
        "| [Image](https://www.markdownguide.org/basic-syntax/#images) | `![alt text](image.jpg)` | ![alt text](image.jpg) |\n",
        "\n",
        "## Extended Syntax\n",
        "\n",
        "Many Markdown parsers, such as GitHub Flavored Markdown (GFM), support additional features. Below are commonly used extended syntax elements.\n",
        "\n",
        "| Element | Markdown Syntax | Example Output |\n",
        "|---------|-----------------|----------------|\n",
        "| [Fenced Code Block](https://www.markdownguide.org/extended-syntax/#fenced-code-blocks) | ```python<br>print(\"Hello, World!\")<br>``` | ```python<br>print(\"Hello, World!\")<br>``` |\n",
        "| [Table](https://www.markdownguide.org/extended-syntax/#tables) | `| Header | Header |`<br>`|--------|--------|`<br>`| Cell   | Cell   |` | | Header | Header |<br>|--------|--------|<br>| Cell   | Cell   | |\n",
        "| [Task List](https://www.markdownguide.org/extended-syntax/#task-lists) | `- [x] Completed task`<br>`- [ ] Incomplete task` | - [x] Completed task<br>- [ ] Incomplete task |\n",
        "| [Strikethrough](https://www.markdownguide.org/extended-syntax/#strikethrough) | `~~strikethrough text~~` | ~~strikethrough text~~ |\n",
        "| [Footnote](https://www.markdownguide.org/extended-syntax/#footnotes) | `Here's a sentence with a footnote. [^1]`<br>`[^1]: This is the footnote.` | Here's a sentence with a footnote. [^1]<br>[^1]: This is the footnote. |\n",
        "\n",
        "## Practical Tips\n",
        "\n",
        "- **Consistency**: Stick to one style per document (e.g., use `*` or `_` for italics, not both).\n",
        "- **Preview**: Always preview your Markdown in your editor (e.g., VS Code, GitHub) to check rendering.\n",
        "- **Nesting Elements**: Combine elements like bold text in lists or links in blockquotes, but test for compatibility.\n",
        "- **Platform-Specific Syntax**: Some platforms (e.g., GitHub, Reddit) have unique Markdown features or limitations. Check their documentation.\n",
        "- **Escape Characters**: Use a backslash (`\\`) to escape special characters, e.g., `\\*` renders as `*`.\n",
        "- **External Resources**: For advanced features, refer to the [Markdown Guide](https://www.markdownguide.org) or your platform’s Markdown help page.\n",
        "\n",
        "## Sample Markdown Document\n",
        "\n",
        "Below is an example combining multiple Markdown elements:\n",
        "\n",
        "```markdown\n",
        "# My Project\n",
        "\n",
        "## Introduction\n",
        "\n",
        "Welcome to my project! This is a **sample** document showcasing Markdown.\n",
        "\n",
        "### Features\n",
        "\n",
        "- **Fast**: Built for speed.\n",
        "- *Flexible*: Works on multiple platforms.\n",
        "- [Learn More](https://www.example.com)\n",
        "\n",
        "> \"Markdown makes writing fun and easy!\" — A happy user\n",
        "\n",
        "#### Code Example\n",
        "\n",
        "```python\n",
        "def greet():\n",
        "    print(\"Hello, Markdown!\")\n",
        "```"
      ],
      "metadata": {
        "id": "-goQxx4WH3i-"
      }
    },
    {
      "cell_type": "markdown",
      "source": [],
      "metadata": {
        "id": "6UDGzmGOIYzn"
      }
    },
    {
      "cell_type": "code",
      "source": [],
      "metadata": {
        "id": "XUg4GPapFzoD"
      },
      "execution_count": null,
      "outputs": []
    }
  ]
}