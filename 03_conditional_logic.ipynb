{
  "nbformat": 4,
  "nbformat_minor": 0,
  "metadata": {
    "colab": {
      "provenance": [],
      "authorship_tag": "ABX9TyPYsB95cIABx4f+YrXJqNte",
      "include_colab_link": true
    },
    "kernelspec": {
      "name": "python3",
      "display_name": "Python 3"
    },
    "language_info": {
      "name": "python"
    }
  },
  "cells": [
    {
      "cell_type": "markdown",
      "metadata": {
        "id": "view-in-github",
        "colab_type": "text"
      },
      "source": [
        "<a href=\"https://colab.research.google.com/github/Mubashar-Bashir/AgenticAI/blob/main/03_conditional_logic.ipynb\" target=\"_parent\"><img src=\"https://colab.research.google.com/assets/colab-badge.svg\" alt=\"Open In Colab\"/></a>"
      ]
    },
    {
      "cell_type": "markdown",
      "source": [
        "#Conditional Logic\n",
        "In CrewAI Flows, implementing conditional logic is facilitated through the **`or_`** and **`and_`** functions, which allow methods to respond to multiple events or combinations of events.\n",
        "\n",
        "##Using **`or_`** for Conditional Execution\n",
        "\n",
        "The **or_** function enables a method to execute when any one of the specified events occurs. This is useful when you want a task to proceed upon the completion of **any** among several preceding tasks.\n",
        "\n",
        "**Example:**"
      ],
      "metadata": {
        "id": "GNKlm-nEYQwA"
      }
    },
    {
      "cell_type": "code",
      "source": [
        "!pip install -Uq crewai  'crewai[tools]' crewai-tools"
      ],
      "metadata": {
        "id": "thlFO_1AZagt"
      },
      "execution_count": null,
      "outputs": []
    },
    {
      "cell_type": "code",
      "source": [
        "import warnings\n",
        "warnings.filterwarnings('ignore')"
      ],
      "metadata": {
        "id": "u9I178yRZnwE"
      },
      "execution_count": 19,
      "outputs": []
    },
    {
      "cell_type": "code",
      "source": [
        "import nest_asyncio\n",
        "nest_asyncio.apply()\n",
        "'''In Jupyter notebooks, running asyncio code directly can cause errors\n",
        "because an event loop is already active.\n",
        "nest_asyncio solves this by allowing multiple nested event loops,\n",
        "so you can run asynchronous code without conflict. '''"
      ],
      "metadata": {
        "colab": {
          "base_uri": "https://localhost:8080/",
          "height": 54
        },
        "id": "s3RlJfxiaOJT",
        "outputId": "523e33b9-4d8a-4506-834e-27c135b00d79"
      },
      "execution_count": 20,
      "outputs": [
        {
          "output_type": "execute_result",
          "data": {
            "text/plain": [
              "'In Jupyter notebooks, running asyncio code directly can cause errors\\nbecause an event loop is already active.\\nnest_asyncio solves this by allowing multiple nested event loops,\\nso you can run asynchronous code without conflict. '"
            ],
            "application/vnd.google.colaboratory.intrinsic+json": {
              "type": "string"
            }
          },
          "metadata": {},
          "execution_count": 20
        }
      ]
    },
    {
      "cell_type": "code",
      "execution_count": 22,
      "metadata": {
        "colab": {
          "base_uri": "https://localhost:8080/"
        },
        "id": "veaHoDYqX4RV",
        "outputId": "90784ebf-2eae-42da-8901-f9471f427080"
      },
      "outputs": [
        {
          "output_type": "stream",
          "name": "stdout",
          "text": [
            "Final Output: Initial task output processed and finalized\n"
          ]
        }
      ],
      "source": [
        "from crewai.flow.flow import Flow, listen, start\n",
        "\n",
        "class ExampleFlow(Flow):  #Example class inherited from Flow\n",
        "    @start()  #Start of Flow\n",
        "    def initial_task(self): # Step1 Start with Message return\n",
        "        # Implementation of the initial task\n",
        "        return \"Initial task output\"\n",
        "\n",
        "    @listen(initial_task)  #Step2 Listen to Step1\n",
        "    def subsequent_task(self, input_data): # Step2 Process input_data = pre step1 return\n",
        "        # Implementation of the subsequent task\n",
        "        # Process the input_data\n",
        "        processed_data = input_data + \" processed\"\n",
        "        return processed_data  # return processed_data to next step\n",
        "\n",
        "    @listen(subsequent_task)  #Step3 Listen to Step2\n",
        "    def final_task(self, processed_data): # Step3 Process processed_data = pre step2 return\n",
        "        # Implementation of the final task\n",
        "        # Further processing\n",
        "        final_result = processed_data + \" and finalized\"\n",
        "        return final_result  # return final_result to next step\n",
        "\n",
        "# Instantiate and execute the flow\n",
        "flow = ExampleFlow()  # Instantiate the flow\n",
        "final_output = flow.kickoff()  # Execute the flow and get the final output\n",
        "print(\"Final Output:\", final_output)"
      ]
    },
    {
      "cell_type": "markdown",
      "source": [
        "#Explanation:\n",
        "\n",
        "`initial_task` is marked with **@start()**, making it the **entry point** of the workflow.\n",
        "\n",
        "`subsequent_task` listens to the completion of initial_task and processes its output.\n",
        "\n",
        "final_task listens to subsequent_task and produces the final result.\n",
        "\n",
        "When flow.kickoff() is called, the workflow executes in the defined sequence, and the final output is obtained from final_task.\n",
        "\n",
        "**Key Points:**\n",
        "\n",
        "<li>The kickoff() method initiates the workflow and returns the output of the last executed method.\n",
        "\n",
        "<li>The sequence of task execution is determined by the use of @start() and @listen() decorators.\n",
        "\n",
        "By structuring your Flow with these decorators and understanding the execution sequence, you can effectively manage and retrieve the final output of your workflows in **CrewAI**.\n",
        "\n",
        "For more detailed information, refer to the CrewAI Flows output documentation."
      ],
      "metadata": {
        "id": "c4pWld3ueQAp"
      }
    },
    {
      "cell_type": "code",
      "source": [
        "from crewai.flow.flow import Flow, listen, start\n",
        "from pydantic import BaseModel  # for structure input\n",
        "\n",
        "class ExampleState(BaseModel):\n",
        "    counter: int = 0\n",
        "    message: str = \"\"\n",
        "\n",
        "class StructuredExampleFlow(Flow[ExampleState]):\n",
        "    @start()\n",
        "    def first_method(self):\n",
        "        self.state.message = \"Hello from structured flow\"\n",
        "        pass\n",
        "\n",
        "    @listen(first_method)\n",
        "    def second_method(self):\n",
        "        self.state.counter += 1\n",
        "        self.state.message += \" - updated1\"\n",
        "\n",
        "    @listen(second_method)\n",
        "    def third_method(self):\n",
        "        self.state.counter += 1\n",
        "        self.state.message += \" - updated again2\"\n",
        "        print(f\"State after third_method: {self.state}\")\n",
        "\n",
        "flow = StructuredExampleFlow()\n",
        "flow.kickoff(inputs={'counter': 10, 'message': 'Starting message'})"
      ],
      "metadata": {
        "colab": {
          "base_uri": "https://localhost:8080/"
        },
        "id": "qFWGFUI_gBMa",
        "outputId": "ee5b4615-2d36-458f-ab95-7f4b7b1229fb"
      },
      "execution_count": null,
      "outputs": [
        {
          "output_type": "stream",
          "name": "stdout",
          "text": [
            "State after third_method: counter=12 message='Hello from structured flow - updated1 - updated again2'\n"
          ]
        }
      ]
    },
    {
      "cell_type": "markdown",
      "source": [
        "Here, **ExampleState** defines the structure of the state with specific types for counter and message. The kickoff function initializes the state with counter set to 10 and message set to 'Starting message'. The methods then update these values as the flow progresses.\n",
        "\n",
        "**Key Points:**\n",
        "\n",
        "**Unstructured State Management:** Offers flexibility by allowing **dynamic addition** of state attributes without **predefined constraints**.\n",
        "\n",
        "**Structured State Management:** Provides **defined schemas**, ensuring type safety and consistency, which is beneficial for complex workflows.\n",
        "\n",
        "By effectively managing state within CrewAI Flows, you can create robust, maintainable, and efficient AI workflows tailored to your specific needs.\n",
        "\n",
        "For more detailed information, refer to the CrewAI Flows documentation."
      ],
      "metadata": {
        "id": "lcKFim1YiKtU"
      }
    }
  ]
}