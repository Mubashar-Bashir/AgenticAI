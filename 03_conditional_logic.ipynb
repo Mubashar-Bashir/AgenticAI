{
  "nbformat": 4,
  "nbformat_minor": 0,
  "metadata": {
    "colab": {
      "provenance": [],
      "authorship_tag": "ABX9TyPRb9Z6VKkl0HHHRoUgsuDW",
      "include_colab_link": true
    },
    "kernelspec": {
      "name": "python3",
      "display_name": "Python 3"
    },
    "language_info": {
      "name": "python"
    }
  },
  "cells": [
    {
      "cell_type": "markdown",
      "metadata": {
        "id": "view-in-github",
        "colab_type": "text"
      },
      "source": [
        "<a href=\"https://colab.research.google.com/github/Mubashar-Bashir/AgenticAI/blob/main/03_conditional_logic.ipynb\" target=\"_parent\"><img src=\"https://colab.research.google.com/assets/colab-badge.svg\" alt=\"Open In Colab\"/></a>"
      ]
    },
    {
      "cell_type": "markdown",
      "source": [
        "#Conditional Logic\n",
        "In CrewAI Flows, implementing conditional logic is facilitated through the **`or_`** and **`and_`** functions, which allow methods to respond to multiple events or combinations of events.\n",
        "\n",
        "##Using **`or_`** for Conditional Execution\n",
        "\n",
        "The **or_** function enables a method to execute when any one of the specified events occurs. This is useful when you want a task to proceed upon the completion of **any** among several preceding tasks.\n",
        "\n",
        "**Example:**"
      ],
      "metadata": {
        "id": "GNKlm-nEYQwA"
      }
    },
    {
      "cell_type": "code",
      "source": [
        "!pip install -Uq crewai  'crewai[tools]' crewai-tools"
      ],
      "metadata": {
        "id": "thlFO_1AZagt"
      },
      "execution_count": 23,
      "outputs": []
    },
    {
      "cell_type": "code",
      "source": [
        "import warnings\n",
        "warnings.filterwarnings('ignore')"
      ],
      "metadata": {
        "id": "u9I178yRZnwE"
      },
      "execution_count": 24,
      "outputs": []
    },
    {
      "cell_type": "code",
      "source": [
        "import nest_asyncio\n",
        "nest_asyncio.apply()\n",
        "'''In Jupyter notebooks, running asyncio code directly can cause errors\n",
        "because an event loop is already active.\n",
        "nest_asyncio solves this by allowing multiple nested event loops,\n",
        "so you can run asynchronous code without conflict. '''"
      ],
      "metadata": {
        "colab": {
          "base_uri": "https://localhost:8080/",
          "height": 55
        },
        "id": "s3RlJfxiaOJT",
        "outputId": "dbeb0709-100b-41a0-c8c7-7f02334cb667"
      },
      "execution_count": 25,
      "outputs": [
        {
          "output_type": "execute_result",
          "data": {
            "text/plain": [
              "'In Jupyter notebooks, running asyncio code directly can cause errors\\nbecause an event loop is already active.\\nnest_asyncio solves this by allowing multiple nested event loops,\\nso you can run asynchronous code without conflict. '"
            ],
            "application/vnd.google.colaboratory.intrinsic+json": {
              "type": "string"
            }
          },
          "metadata": {},
          "execution_count": 25
        }
      ]
    },
    {
      "cell_type": "code",
      "execution_count": 26,
      "metadata": {
        "colab": {
          "base_uri": "https://localhost:8080/"
        },
        "id": "veaHoDYqX4RV",
        "outputId": "8f82e869-18b8-4419-f293-256e1b261475"
      },
      "outputs": [
        {
          "output_type": "stream",
          "name": "stdout",
          "text": [
            "Task C received: Output from task A\n",
            "Task C received: Output from task B\n",
            "Task D received: Output from task C\n",
            "Task D received: Output from task C\n"
          ]
        }
      ],
      "source": [
        "from crewai.flow.flow import Flow, listen, start, or_\n",
        "\n",
        "class OrExampleFlow(Flow): # Inherited from Flow\n",
        "    @start() # Start point of the flow\n",
        "    def task_a(self): # Method 1\n",
        "        return \"Output from task A\"  # Return output\n",
        "\n",
        "    @start() # Start point of the flow its parallel of flow 1\n",
        "    def task_b(self): # Method 2\n",
        "        return \"Output from task B\"  # Return output\n",
        "\n",
        "    @listen(or_(task_a, task_b)) # Listen to the completion of either task_a or task_b\n",
        "    def task_c(self, result):    # Method 3, receives result from the listened task (a,b) any\n",
        "        print(f\"Task C received: {result}\") # Print the received result\n",
        "        return \"Output from task C\"  # Return output\n",
        "\n",
        "    @listen(task_c) # Listen to the completion of task_c\n",
        "    def task_d(self, result): # Method 4, receives result from task_c\n",
        "        print(f\"Task D received: {result}\") # Print the received result\n",
        "\n",
        "flow = OrExampleFlow() # Create an instance of the flow\n",
        "flow.kickoff() # Start the flow"
      ]
    },
    {
      "cell_type": "markdown",
      "source": [
        "In this example, **task_c** will execute when either **task_a** or **task_b** completes, receiving the result from whichever task finishes first.\n",
        "\n",
        "#Using and_ for Conditional Execution\n",
        "\n",
        "The **and_** function allows a method to execute only after all specified events have occurred. This is beneficial when a task depends on the completion of multiple preceding tasks.\n",
        "\n",
        "**Example:**"
      ],
      "metadata": {
        "id": "c4pWld3ueQAp"
      }
    },
    {
      "cell_type": "code",
      "source": [
        "from crewai.flow.flow import Flow, listen, start, and_\n",
        "\n",
        "class AndExampleFlow(Flow): # Inherited from Flow\n",
        "\n",
        "\n",
        "  @start() # Start point of the flow\n",
        "  def task_x(self): # Method 1\n",
        "    print(\"Executing task X\")\n",
        "    self.state[\"greeting\"] = \"Hello from the start method\"\n",
        "\n",
        "  @start()  # Start point of the flow\n",
        "  def task_y(self):  # Method 2\n",
        "    print(\"Executing task Y\")\n",
        "    self.state[\"joke\"] = \"What do computers eat? Microchips.\"\n",
        "\n",
        "  # @listen(and_(task_x, task_y))\n",
        "  # def task_z(self, results):\n",
        "  #   print(self.state)\n",
        "  #   print(f\"Results received by Task Z: {results}\")\n",
        "    # print(f\"Task X executed: {self.task_x.__name__}\")\n",
        "    # print(f\"Task Y executed: {self.task_y.__name__}\")\n",
        "\n",
        "  @listen(and_(task_x, task_y))\n",
        "  def task_z(self, results):\n",
        "      print(f\"Results received by Task Z: {results}\")\n",
        "      print(f\"Results type: {type(results)}\")\n",
        "  def logger(self):\n",
        "    print(\"---- Logger ----\")\n",
        "    print(self.state)\n",
        "\n",
        "      # # Check if we have at least two results\n",
        "      # if len(results) >= 2:\n",
        "      #     result_x, result_y = results[:2]  # Safely extract the first two elements\n",
        "      #     print(f\"Task Z received: {result_x} and {result_y}\")\n",
        "      # else:\n",
        "      #     print(\"Warning: Not all tasks returned results as expected.\")\n",
        "      #     result_x = results[0] if len(results) > 0 else \"No result from task_x\"\n",
        "      #     result_y = \"No result from task_y\"\n",
        "\n",
        "      # return \"Output from task Z\"  # Continue the flow\n",
        "\n",
        "\n",
        "  # @listen(and_(task_x, task_y))\n",
        "  # def task_z(self, results):\n",
        "  #     print(f\"Results received by Task Z: {results}\")\n",
        "  #     result_x, result_y = results  # Extract first two elements\n",
        "  #     print(f\"Task Z received: {result_x} and {result_y}\")\n",
        "  #     return \"Output from task \"\n",
        "\n",
        "flow = AndExampleFlow()\n",
        "flow.kickoff()"
      ],
      "metadata": {
        "colab": {
          "base_uri": "https://localhost:8080/"
        },
        "id": "qFWGFUI_gBMa",
        "outputId": "52b49357-4ed2-4b7c-e2ba-967a401367fa"
      },
      "execution_count": 53,
      "outputs": [
        {
          "output_type": "stream",
          "name": "stdout",
          "text": [
            "Executing task X\n",
            "Executing task Y\n",
            "Results received by Task Z: None\n",
            "Results type: <class 'NoneType'>\n"
          ]
        }
      ]
    },
    {
      "cell_type": "markdown",
      "source": [],
      "metadata": {
        "id": "lcKFim1YiKtU"
      }
    },
    {
      "cell_type": "code",
      "source": [
        "from crewai.flow.flow import Flow, listen, start, and_\n",
        "\n",
        "class AndExampleFlow(Flow):\n",
        "    @start()\n",
        "    def task_x(self):\n",
        "        return \"Output from task X\"\n",
        "\n",
        "    @start()\n",
        "    def task_y(self):\n",
        "        return \"Output from task Y\"\n",
        "\n",
        "    @listen(and_(task_x, task_y))\n",
        "    def task_z(self, results):\n",
        "        print(\"Task_z\",results)\n",
        "        result_x, result_y = results\n",
        "        print(f\"Task Z received: {result_x} and {result_y}\")\n",
        "        return \"Output from task Z\"\n",
        "\n",
        "flow = AndExampleFlow()\n",
        "flow.kickoff()"
      ],
      "metadata": {
        "colab": {
          "base_uri": "https://localhost:8080/",
          "height": 221
        },
        "id": "QFZJ4JW0G4xc",
        "outputId": "8b897032-fe94-4fe3-b85b-283f30dc2cfb"
      },
      "execution_count": 58,
      "outputs": [
        {
          "output_type": "stream",
          "name": "stdout",
          "text": [
            "Task_z Output from task Y\n",
            "[Flow._execute_single_listener] Error in method task_z: too many values to unpack (expected 2)\n"
          ]
        },
        {
          "output_type": "stream",
          "name": "stderr",
          "text": [
            "Traceback (most recent call last):\n",
            "  File \"/usr/local/lib/python3.10/dist-packages/crewai/flow/flow.py\", line 363, in _execute_single_listener\n",
            "    listener_result = await self._execute_method(\n",
            "  File \"/usr/local/lib/python3.10/dist-packages/crewai/flow/flow.py\", line 306, in _execute_method\n",
            "    else method(*args, **kwargs)\n",
            "  File \"<ipython-input-58-65fee5f27dc2>\", line 15, in task_z\n",
            "    result_x, result_y = results\n",
            "ValueError: too many values to unpack (expected 2)\n"
          ]
        },
        {
          "output_type": "execute_result",
          "data": {
            "text/plain": [
              "'Output from task Y'"
            ],
            "application/vnd.google.colaboratory.intrinsic+json": {
              "type": "string"
            }
          },
          "metadata": {},
          "execution_count": 58
        }
      ]
    },
    {
      "cell_type": "code",
      "source": [
        "from crewai.flow.flow import Flow, and_, listen, start\n",
        "\n",
        "class AndExampleFlow(Flow):\n",
        "\n",
        "    @start()\n",
        "    def start_method(self):\n",
        "        self.state[\"greeting\"] = \"Hello from the start method\"\n",
        "\n",
        "    @listen(start_method)\n",
        "    def second_method(self):\n",
        "        self.state[\"joke\"] = \"What do computers eat? Microchips.\"\n",
        "\n",
        "    @listen(and_(start_method, second_method))\n",
        "    def logger(self):\n",
        "        print(\"---- Logger ----\")\n",
        "        print(self.state)\n",
        "\n",
        "flow = AndExampleFlow()\n",
        "flow.kickoff()\n"
      ],
      "metadata": {
        "colab": {
          "base_uri": "https://localhost:8080/"
        },
        "id": "PFXfNh1lG-k0",
        "outputId": "707696a2-ab87-442a-f876-3fda2b60e7d0"
      },
      "execution_count": 55,
      "outputs": [
        {
          "output_type": "stream",
          "name": "stdout",
          "text": [
            "---- Logger ----\n",
            "{'greeting': 'Hello from the start method', 'joke': 'What do computers eat? Microchips.'}\n"
          ]
        }
      ]
    },
    {
      "cell_type": "markdown",
      "source": [
        "Here, **task_z** will execute only after both **task_x** and **task_y** have completed, receiving their results as a tuple.\n",
        "\n",
        "##Important Considerations\n",
        "\n",
        "**Execution Timing:** When using **or_**, the listening method executes upon the first completion among the specified tasks. With **and_**, the method waits until all specified tasks have completed.\n",
        "\n",
        "**Result Handling:** For **or_**, the result passed to the listening method corresponds to the task that completed first. For **and_,** the results are provided as a **tuple**, maintaining the order of the specified tasks.\n",
        "\n",
        "**Potential Issues:** Be aware of known issues with these functions. For instance, there have been reports of the or_ function executing only once when listening to multiple methods . Similarly, issues with the and_ function have been documented . It's advisable to consult the latest CrewAI documentation and community forums for updates and best practices.\n",
        "\n",
        "By effectively utilizing or_ and and_, you can implement complex conditional logic within your CrewAI Flows, allowing for dynamic and responsive workflows."
      ],
      "metadata": {
        "id": "K0JTEmmzKMjW"
      }
    }
  ]
}